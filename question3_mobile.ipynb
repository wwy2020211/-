{
 "cells": [
  {
   "cell_type": "code",
   "execution_count": 5,
   "metadata": {},
   "outputs": [
    {
     "name": "stdout",
     "output_type": "stream",
     "text": [
      "是否有来电，是输入1，否输入其他，退出输入q： 0\n",
      "输入您想要的手机版本，原始版请按0，第一次升级请按1，第二次升级请按2 0\n",
      "最原始版手机：\n",
      "￥￥￥￥￥￥￥￥￥￥￥￥￥￥￥￥￥￥￥￥￥￥￥￥￥￥￥￥￥￥￥￥￥￥￥￥￥\n",
      "是否有来电，是输入1，否输入其他，退出输入q： 1\n",
      "输入您想要的手机版本，原始版请按0，第一次升级请按1，第二次升级请按2 0\n",
      "最原始版手机：\n",
      "来电提醒\n",
      "￥￥￥￥￥￥￥￥￥￥￥￥￥￥￥￥￥￥￥￥￥￥￥￥￥￥￥￥￥￥￥￥￥￥￥￥￥\n",
      "是否有来电，是输入1，否输入其他，退出输入q： 1\n",
      "输入您想要的手机版本，原始版请按0，第一次升级请按1，第二次升级请按2 1\n",
      "第一次升级版手机：\n",
      "来电提醒\n",
      "震动\n",
      "￥￥￥￥￥￥￥￥￥￥￥￥￥￥￥￥￥￥￥￥￥￥￥￥￥￥￥￥￥￥￥￥￥￥￥￥￥\n",
      "是否有来电，是输入1，否输入其他，退出输入q： 1\n",
      "输入您想要的手机版本，原始版请按0，第一次升级请按1，第二次升级请按2 2\n",
      "第二次升级版手机：\n",
      "来电提醒\n",
      "震动\n",
      "闪烁\n",
      "￥￥￥￥￥￥￥￥￥￥￥￥￥￥￥￥￥￥￥￥￥￥￥￥￥￥￥￥￥￥￥￥￥￥￥￥￥\n",
      "是否有来电，是输入1，否输入其他，退出输入q： 1\n",
      "输入您想要的手机版本，原始版请按0，第一次升级请按1，第二次升级请按2 3\n",
      "目前没有升级到这个版本\n",
      "是否有来电，是输入1，否输入其他，退出输入q： q\n"
     ]
    }
   ],
   "source": [
    "class Mobile:                                     #来电提醒\n",
    "    ''' Interface class: FlyBehavior '''\n",
    "    def __init__(self, ring):\n",
    "        if ring=='1':\n",
    "            print(\"来电提醒\")\n",
    "        return\n",
    "class Mobile1(Mobile):               #翅膀飞行\n",
    "    def __init__(self, ring):\n",
    "        super().__init__(ring)\n",
    "        if ring=='1':\n",
    "            print(\"震动\")\n",
    "class Mobile2(Mobile1):                    #不会飞\n",
    "    def __init__(self, ring):\n",
    "        super().__init__(ring)\n",
    "        if ring=='1':\n",
    "            print(\"闪烁\")\n",
    "if __name__ == \"__main__\":\n",
    "    while(1):\n",
    "        r=input(\"是否有来电，是输入1，否输入其他，退出输入q： \")\n",
    "        if r=='q':\n",
    "            break\n",
    "        c=input(\"输入您想要的手机版本，原始版请按0，第一次升级请按1，第二次升级请按2 \")\n",
    "        if c=='0':\n",
    "            print(\"最原始版手机：\")\n",
    "            mobile=Mobile(r)\n",
    "            print(\"￥￥￥￥￥￥￥￥￥￥￥￥￥￥￥￥￥￥￥￥￥￥￥￥￥￥￥￥￥￥￥￥￥￥￥￥￥\")\n",
    "        elif c=='1':            \n",
    "            print(\"第一次升级版手机：\")\n",
    "            mobile=Mobile1(r)\n",
    "            print(\"￥￥￥￥￥￥￥￥￥￥￥￥￥￥￥￥￥￥￥￥￥￥￥￥￥￥￥￥￥￥￥￥￥￥￥￥￥\")\n",
    "        elif c=='2':\n",
    "            print(\"第二次升级版手机：\")\n",
    "            mobile=Mobile2(r)\n",
    "            print(\"￥￥￥￥￥￥￥￥￥￥￥￥￥￥￥￥￥￥￥￥￥￥￥￥￥￥￥￥￥￥￥￥￥￥￥￥￥\")\n",
    "        else:\n",
    "            print(\"目前没有升级到这个版本\")"
   ]
  },
  {
   "cell_type": "code",
   "execution_count": null,
   "metadata": {},
   "outputs": [],
   "source": []
  }
 ],
 "metadata": {
  "kernelspec": {
   "display_name": "Python 3",
   "language": "python",
   "name": "python3"
  },
  "language_info": {
   "codemirror_mode": {
    "name": "ipython",
    "version": 3
   },
   "file_extension": ".py",
   "mimetype": "text/x-python",
   "name": "python",
   "nbconvert_exporter": "python",
   "pygments_lexer": "ipython3",
   "version": "3.7.6"
  }
 },
 "nbformat": 4,
 "nbformat_minor": 4
}
